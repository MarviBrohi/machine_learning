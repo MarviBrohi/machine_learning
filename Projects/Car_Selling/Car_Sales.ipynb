{
 "cells": [
  {
   "cell_type": "code",
   "execution_count": 2,
   "metadata": {},
   "outputs": [
    {
     "name": "stdout",
     "output_type": "stream",
     "text": [
      "      Manufacturer              Model  Sales in thousands 4-year resale value  \\\n",
      "0    Acura          Integra                        16.919               16.36   \n",
      "1    Acura          TL                             39.384              19.875   \n",
      "2    Acura          CL                             14.114              18.225   \n",
      "3    Acura          RL                              8.588              29.725   \n",
      "4    Audi           A4                             20.397              22.255   \n",
      "..             ...                ...                 ...                 ...   \n",
      "152  Volvo          V40                             3.545                   .   \n",
      "153  Volvo          S70                            15.245                   .   \n",
      "154  Volvo          V70                            17.531                   .   \n",
      "155  Volvo          C70                             3.493                   .   \n",
      "156  Volvo          S80                            18.969                   .   \n",
      "\n",
      "    Vehicle type Price in thousands Engine size Horsepower Wheelbase Width  \\\n",
      "0      Passenger               21.5         1.8        140     101.2  67.3   \n",
      "1      Passenger               28.4         3.2        225     108.1  70.3   \n",
      "2      Passenger                  .         3.2        225     106.9  70.6   \n",
      "3      Passenger                 42         3.5        210     114.6  71.4   \n",
      "4      Passenger              23.99         1.8        150     102.6  68.2   \n",
      "..           ...                ...         ...        ...       ...   ...   \n",
      "152    Passenger               24.4         1.9        160     100.5  67.6   \n",
      "153    Passenger               27.5         2.4        168     104.9  69.3   \n",
      "154    Passenger               28.8         2.4        168     104.9  69.3   \n",
      "155    Passenger               45.5         2.3        236     104.9  71.5   \n",
      "156    Passenger                 36         2.9        201     109.9  72.1   \n",
      "\n",
      "    Length Curb weight Fuel capacity Fuel efficiency Latest Launch  \n",
      "0    172.4       2.639          13.2              28      2-Feb-14  \n",
      "1    192.9       3.517          17.2              25      6-Mar-15  \n",
      "2      192        3.47          17.2              26      1-Apr-14  \n",
      "3    196.6        3.85            18              22      3-Oct-15  \n",
      "4      178       2.998          16.4              27     10-Aug-15  \n",
      "..     ...         ...           ...             ...           ...  \n",
      "152  176.6       3.042          15.8              25     21-Sep-15  \n",
      "153  185.9       3.208          17.9              25     24-Nov-14  \n",
      "154  186.2       3.259          17.9              25     25-Jun-15  \n",
      "155  185.7       3.601          18.5              23     26-Apr-15  \n",
      "156  189.8         3.6          21.1              24     14-Nov-15  \n",
      "\n",
      "[157 rows x 15 columns]\n"
     ]
    }
   ],
   "source": [
    "import numpy as np\n",
    "import pandas as pd\n",
    "\n",
    "df = pd.read_csv(\"Car_sales.csv\")\n",
    "print(df)"
   ]
  },
  {
   "cell_type": "code",
   "execution_count": 3,
   "metadata": {},
   "outputs": [
    {
     "name": "stdout",
     "output_type": "stream",
     "text": [
      "<class 'pandas.core.frame.DataFrame'>\n",
      "RangeIndex: 157 entries, 0 to 156\n",
      "Data columns (total 15 columns):\n",
      " #   Column               Non-Null Count  Dtype  \n",
      "---  ------               --------------  -----  \n",
      " 0   Manufacturer         157 non-null    object \n",
      " 1   Model                157 non-null    object \n",
      " 2   Sales in thousands   157 non-null    float64\n",
      " 3   4-year resale value  157 non-null    object \n",
      " 4   Vehicle type         157 non-null    object \n",
      " 5   Price in thousands   157 non-null    object \n",
      " 6   Engine size          157 non-null    object \n",
      " 7   Horsepower           157 non-null    object \n",
      " 8   Wheelbase            157 non-null    object \n",
      " 9   Width                157 non-null    object \n",
      " 10  Length               157 non-null    object \n",
      " 11  Curb weight          157 non-null    object \n",
      " 12  Fuel capacity        157 non-null    object \n",
      " 13  Fuel efficiency      157 non-null    object \n",
      " 14  Latest Launch        157 non-null    object \n",
      "dtypes: float64(1), object(14)\n",
      "memory usage: 18.5+ KB\n"
     ]
    }
   ],
   "source": [
    "df.info()"
   ]
  },
  {
   "cell_type": "code",
   "execution_count": 4,
   "metadata": {},
   "outputs": [
    {
     "data": {
      "text/html": [
       "<div>\n",
       "<style scoped>\n",
       "    .dataframe tbody tr th:only-of-type {\n",
       "        vertical-align: middle;\n",
       "    }\n",
       "\n",
       "    .dataframe tbody tr th {\n",
       "        vertical-align: top;\n",
       "    }\n",
       "\n",
       "    .dataframe thead th {\n",
       "        text-align: right;\n",
       "    }\n",
       "</style>\n",
       "<table border=\"1\" class=\"dataframe\">\n",
       "  <thead>\n",
       "    <tr style=\"text-align: right;\">\n",
       "      <th></th>\n",
       "      <th>Sales in thousands</th>\n",
       "    </tr>\n",
       "  </thead>\n",
       "  <tbody>\n",
       "    <tr>\n",
       "      <th>count</th>\n",
       "      <td>157.000000</td>\n",
       "    </tr>\n",
       "    <tr>\n",
       "      <th>mean</th>\n",
       "      <td>52.998076</td>\n",
       "    </tr>\n",
       "    <tr>\n",
       "      <th>std</th>\n",
       "      <td>68.029422</td>\n",
       "    </tr>\n",
       "    <tr>\n",
       "      <th>min</th>\n",
       "      <td>0.110000</td>\n",
       "    </tr>\n",
       "    <tr>\n",
       "      <th>25%</th>\n",
       "      <td>14.114000</td>\n",
       "    </tr>\n",
       "    <tr>\n",
       "      <th>50%</th>\n",
       "      <td>29.450000</td>\n",
       "    </tr>\n",
       "    <tr>\n",
       "      <th>75%</th>\n",
       "      <td>67.956000</td>\n",
       "    </tr>\n",
       "    <tr>\n",
       "      <th>max</th>\n",
       "      <td>540.561000</td>\n",
       "    </tr>\n",
       "  </tbody>\n",
       "</table>\n",
       "</div>"
      ],
      "text/plain": [
       "       Sales in thousands\n",
       "count          157.000000\n",
       "mean            52.998076\n",
       "std             68.029422\n",
       "min              0.110000\n",
       "25%             14.114000\n",
       "50%             29.450000\n",
       "75%             67.956000\n",
       "max            540.561000"
      ]
     },
     "execution_count": 4,
     "metadata": {},
     "output_type": "execute_result"
    }
   ],
   "source": [
    "df.describe()"
   ]
  },
  {
   "cell_type": "markdown",
   "metadata": {},
   "source": [
    "Clean the data"
   ]
  },
  {
   "cell_type": "code",
   "execution_count": 12,
   "metadata": {},
   "outputs": [],
   "source": [
    "df.replace([\".\",\"NA\",\"?\"],np.nan,inplace=True)\n"
   ]
  },
  {
   "cell_type": "code",
   "execution_count": 11,
   "metadata": {},
   "outputs": [
    {
     "name": "stdout",
     "output_type": "stream",
     "text": [
      "Dataset columns: \n",
      " Index(['Manufacturer', 'Model', 'Sales in thousands', '4-year resale value',\n",
      "       'Vehicle type', 'Price in thousands', 'Engine size', 'Horsepower',\n",
      "       'Wheelbase', 'Width', 'Length', 'Curb weight', 'Fuel capacity',\n",
      "       'Fuel efficiency', 'Latest Launch'],\n",
      "      dtype='object')\n",
      "cleaned Dataset:\n",
      "     Manufacturer              Model  Sales in thousands  4-year resale value  \\\n",
      "0  Acura          Integra                        16.919               16.360   \n",
      "1  Acura          TL                             39.384               19.875   \n",
      "2  Acura          CL                             14.114               18.225   \n",
      "3  Acura          RL                              8.588               29.725   \n",
      "4  Audi           A4                             20.397               22.255   \n",
      "\n",
      "  Vehicle type  Price in thousands  Engine size  Horsepower  Wheelbase  Width  \\\n",
      "0    Passenger           21.500000          1.8       140.0      101.2   67.3   \n",
      "1    Passenger           28.400000          3.2       225.0      108.1   70.3   \n",
      "2    Passenger           27.390755          3.2       225.0      106.9   70.6   \n",
      "3    Passenger           42.000000          3.5       210.0      114.6   71.4   \n",
      "4    Passenger           23.990000          1.8       150.0      102.6   68.2   \n",
      "\n",
      "  Length Curb weight  Fuel capacity  Fuel efficiency Latest Launch  \n",
      "0  172.4       2.639           13.2             28.0      2-Feb-14  \n",
      "1  192.9       3.517           17.2             25.0      6-Mar-15  \n",
      "2    192        3.47           17.2             26.0      1-Apr-14  \n",
      "3  196.6        3.85           18.0             22.0      3-Oct-15  \n",
      "4    178       2.998           16.4             27.0     10-Aug-15  \n"
     ]
    }
   ],
   "source": [
    "print(\"Dataset columns: \\n\",df.columns)\n",
    "\n",
    "non_numeric_val = [\n",
    "    \"Sales in thousands\",\n",
    "    \"4-year resale value\",\n",
    "    \"Price in thousands\",\n",
    "    \"Engine size\",\n",
    "    \"Horsepower\",\n",
    "    \"Wheelbase\",\n",
    "    \"Width\",\n",
    "    \"Fuel capacity\",\n",
    "    \"Fuel efficiency\"\n",
    "]\n",
    "\n",
    "Existing_columns = [col for col in non_numeric_val if col in df.columns]\n",
    "\n",
    "df[Existing_columns] = df[Existing_columns].apply(pd.to_numeric, errors=\"coerce\")\n",
    "\n",
    "df.fillna(df[Existing_columns].mean(numeric_only=True),inplace=True)\n",
    "\n",
    "print(\"cleaned Dataset:\\n\", df.head())"
   ]
  },
  {
   "cell_type": "markdown",
   "metadata": {},
   "source": [
    "Test train slip and Model training "
   ]
  },
  {
   "cell_type": "code",
   "execution_count": 14,
   "metadata": {},
   "outputs": [
    {
     "name": "stdout",
     "output_type": "stream",
     "text": [
      "Mean Squared Error:  102.91412927288758\n",
      "Root Mean Squared Error:  10.144660135898471\n",
      "R2 Score:  0.700508182413878\n"
     ]
    }
   ],
   "source": [
    "from sklearn.metrics import d2_absolute_error_score,mean_squared_error,root_mean_squared_error,r2_score\n",
    "from sklearn.model_selection import train_test_split\n",
    "from sklearn.linear_model import LinearRegression\n",
    "\n",
    "\n",
    "# Ensure there are no NaNs left\n",
    "df.fillna(df.mean(numeric_only=True), inplace=True)\n",
    "\n",
    "# Features and target variable\n",
    "x = df[[\"Engine size\", \"Horsepower\", \"Wheelbase\", \"Width\", \"Fuel efficiency\"]]\n",
    "y = df[\"Price in thousands\"]\n",
    "\n",
    "# Split into training and testing data\n",
    "x_train, x_test, y_train, y_test = train_test_split(x, y, test_size=0.2, random_state=42)\n",
    "\n",
    "# Check and remove any remaining NaN values\n",
    "x_train.dropna(inplace=True)\n",
    "x_test.dropna(inplace=True)\n",
    "y_train = y_train.loc[x_train.index]\n",
    "y_test = y_test.loc[x_test.index]\n",
    "\n",
    "# Train linear regression model\n",
    "LR_model = LinearRegression()\n",
    "LR_model.fit(x_train, y_train)\n",
    "\n",
    "# Predict\n",
    "y_predict = LR_model.predict(x_test)\n",
    "\n",
    "# Evaluate Model\n",
    "MSE = mean_squared_error(y_test, y_predict)\n",
    "RMSE = np.sqrt(MSE)\n",
    "r2 = r2_score(y_test, y_predict)\n",
    "\n",
    "print(\"Mean Squared Error: \", MSE)\n",
    "print(\"Root Mean Squared Error: \", RMSE)\n",
    "print(\"R2 Score: \", r2)\n",
    "\n",
    "\n",
    "\n",
    "\n"
   ]
  },
  {
   "cell_type": "markdown",
   "metadata": {},
   "source": [
    "Classification:\n",
    "ROC-AUC, Precision,Recall and F1-score "
   ]
  },
  {
   "cell_type": "code",
   "execution_count": 16,
   "metadata": {},
   "outputs": [
    {
     "name": "stdout",
     "output_type": "stream",
     "text": [
      "ROC-AUC Score 0.9325396825396826\n"
     ]
    },
    {
     "data": {
      "image/png": "[encoded data removed]",
      "text/plain": [
       "<Figure size 600x600 with 1 Axes>"
      ]
     },
     "metadata": {},
     "output_type": "display_data"
    }
   ],
   "source": [
    "from sklearn.metrics import roc_auc_score,roc_curve,precision_recall_curve ,f1_score\n",
    "import matplotlib.pyplot as plt\n",
    "#create a binary target(Luxury vs non luxury)\n",
    "#creates a new column called \"Luxury\", which categorizes cars as luxury or non-luxury based on their price.\n",
    "df[\"Luxury\"] = (df[\"Price in thousands\"] > 30).astype(int)\n",
    "\n",
    "#Define features and target \n",
    "x_class = df[[\"Engine size\",\"Horsepower\",\"Wheelbase\",\"Width\",\"Fuel efficiency\"]]\n",
    "y_class = df[\"Luxury\"]\n",
    "\n",
    "#Train test split\n",
    "x_train_class,x_test_class,y_train_class,y_test_class = train_test_split(x_class,y_class,test_size=0.2,random_state=42)\n",
    "\n",
    "#linear Regresion Model\n",
    "L_model_class = LinearRegression()\n",
    "L_model_class.fit(x_train_class,y_train_class)\n",
    "\n",
    "#predicted Probabilities\n",
    "y_predicted_prob = L_model_class.predict(x_test_class)\n",
    "\n",
    "#Calculating ROC-AUC Scores\n",
    "AUC_SCORE = roc_auc_score(y_test_class,y_predicted_prob)\n",
    "print(\"ROC-AUC Score\",AUC_SCORE)\n",
    "\n",
    "#Plot the ROC Curve\n",
    "fbr, tbr , _ = roc_curve(y_test_class,y_predicted_prob)\n",
    "plt.figure(figsize=(6,6))\n",
    "plt.plot(fbr,tbr,label=\"ROC Curve (RUC = {:.2f}))\".format(AUC_SCORE))\n",
    "plt.plot([0,1],[0,1],'k--')\n",
    "plt.xlabel(\"False Positive Rate\")\n",
    "plt.ylabel(\"True Positive Rate\")\n",
    "plt.title(\"ROC curve \")\n",
    "plt.legend()\n",
    "plt.show()\n",
    "\n",
    "\n"
   ]
  }
 ],
 "metadata": {
  "kernelspec": {
   "display_name": "Python 3",
   "language": "python",
   "name": "python3"
  },
  "language_info": {
   "codemirror_mode": {
    "name": "ipython",
    "version": 3
   },
   "file_extension": ".py",
   "mimetype": "text/x-python",
   "name": "python",
   "nbconvert_exporter": "python",
   "pygments_lexer": "ipython3",
   "version": "3.12.9"
  }
 },
 "nbformat": 4,
 "nbformat_minor": 2
}
