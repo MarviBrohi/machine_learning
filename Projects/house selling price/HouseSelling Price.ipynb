{
 "cells": [
  {
   "cell_type": "markdown",
   "metadata": {},
   "source": [
    "STEP1: CREATING A DATASET"
   ]
  },
  {
   "cell_type": "code",
   "execution_count": null,
   "metadata": {},
   "outputs": [
    {
     "name": "stdout",
     "output_type": "stream",
     "text": [
      "Initial Dataset:\n",
      "    House_Size  House_Rate  Age  Bedrooms\n",
      "0      1200.0    320000.0   10         2\n",
      "1      1400.0    360000.0   15         4\n",
      "2      1600.0         NaN   18         4\n",
      "3      1900.0    890000.0   19         5\n",
      "4         NaN    900000.0   20         6\n",
      "5      3200.0   1200000.0   25         7\n"
     ]
    }
   ],
   "source": [
    "import numpy as np\n",
    "import pandas as pd\n",
    "\n",
    "\n",
    "# Creating a dataset\n",
    "data = {\n",
    "    'House_Size': [1200, 1400, 1600, 1900, np.nan, 3200],\n",
    "    'House_Rate': [320000, 360000, np.nan, 890000, 900000, 1200000],  # Added missing value\n",
    "    'Age': [10, 15, 18, 19, 20, 25],\n",
    "    'Bedrooms': [2, 4, 4, 5, 6, 7]\n",
    "}\n",
    "\n",
    "df = pd.DataFrame(data)\n",
    "print(\"Initial Dataset:\\n\", df)\n"
   ]
  },
  {
   "cell_type": "markdown",
   "metadata": {},
   "source": [
    "STEP2:hANDLING THE MISSING VALUES IN DATASET USING MEAN IMPUTATION "
   ]
  },
  {
   "cell_type": "code",
   "execution_count": null,
   "metadata": {},
   "outputs": [
    {
     "name": "stdout",
     "output_type": "stream",
     "text": [
      "Dataset after handing missing data:\n",
      "    House_Size  House_Rate  Age  Bedrooms\n",
      "0      1200.0    320000.0   10         2\n",
      "1      1400.0    360000.0   15         4\n",
      "2      1600.0    734000.0   18         4\n",
      "3      1900.0    890000.0   19         5\n",
      "4      1860.0    900000.0   20         6\n",
      "5      3200.0   1200000.0   25         7\n"
     ]
    }
   ],
   "source": [
    "from sklearn.impute import SimpleImputer\n",
    "#parameter tells it to replace missing values with the mean of the respective colmn\n",
    "#creating the imputer object\n",
    "imputer = SimpleImputer(strategy='mean')\n",
    "#This creates an imputer that will fill missing values with the mean of each column.\n",
    "#Applying imputer to the dataset\n",
    "df[['House_Size','House_Rate']] = imputer.fit_transform(df[['House_Size','House_Rate']])\n",
    "#fit calcute the mean of House_size\n",
    "#transform replace any NaN values with the calculated mean\n",
    "print(\"Dataset after handing missing data:\\n\",df)\n",
    "\n",
    "\n"
   ]
  },
  {
   "cell_type": "markdown",
   "metadata": {},
   "source": [
    "STEP3:MEAN ABSOLUTE ERROR:"
   ]
  },
  {
   "cell_type": "code",
   "execution_count": 13,
   "metadata": {},
   "outputs": [
    {
     "name": "stdout",
     "output_type": "stream",
     "text": [
      "MAE: 11666.666666666666\n"
     ]
    }
   ],
   "source": [
    "from sklearn.metrics import mean_absolute_error\n",
    "y_actual = [320000,360000,560000,890000,900000,1200000]\n",
    "y_predict = [330000,350000,550000,880000,910000,1180000]\n",
    "\n",
    "MAE = mean_absolute_error(y_actual,y_predict)\n",
    "print(\"MAE:\",MAE)"
   ]
  },
  {
   "cell_type": "markdown",
   "metadata": {},
   "source": [
    "STEP3: MEAN SQUARED ERROR"
   ]
  },
  {
   "cell_type": "code",
   "execution_count": 14,
   "metadata": {},
   "outputs": [
    {
     "name": "stdout",
     "output_type": "stream",
     "text": [
      "MSE:  150000000.0\n"
     ]
    }
   ],
   "source": [
    "from sklearn.metrics import mean_squared_error\n",
    "MSE = mean_squared_error(y_actual,y_predict)\n",
    "print(\"MSE: \" , MSE)"
   ]
  },
  {
   "cell_type": "markdown",
   "metadata": {},
   "source": [
    "STEP4:ROOT MEAN SQUARED ERROR"
   ]
  },
  {
   "cell_type": "code",
   "execution_count": 15,
   "metadata": {},
   "outputs": [
    {
     "name": "stdout",
     "output_type": "stream",
     "text": [
      "RMSE: 12247.44871391589\n"
     ]
    }
   ],
   "source": [
    "RMSE = np.sqrt(MSE)\n",
    "print(\"RMSE:\",RMSE)"
   ]
  },
  {
   "cell_type": "markdown",
   "metadata": {},
   "source": [
    "step5: R-Squared(R^2 Score)"
   ]
  },
  {
   "cell_type": "code",
   "execution_count": 16,
   "metadata": {},
   "outputs": [
    {
     "name": "stdout",
     "output_type": "stream",
     "text": [
      "R-squared:  0.9985137478325489\n"
     ]
    }
   ],
   "source": [
    "from sklearn.metrics import r2_score\n",
    "R2 = r2_score(y_actual,y_predict)\n",
    "print(\"R-squared: \",R2)"
   ]
  },
  {
   "cell_type": "markdown",
   "metadata": {},
   "source": [
    "B:Model Evaluation for Classification\n",
    "1: Accuracy "
   ]
  },
  {
   "cell_type": "code",
   "execution_count": 21,
   "metadata": {},
   "outputs": [
    {
     "name": "stdout",
     "output_type": "stream",
     "text": [
      "Accuracy: 0.5\n"
     ]
    }
   ],
   "source": [
    "from sklearn.metrics import accuracy_score\n",
    "y_actual = [1,0,1,1,0,1]\n",
    "y_predicted=[1,1,0,1,1,1]\n",
    "Acuracy = accuracy_score(y_actual,y_predicted)\n",
    "print(\"Accuracy:\",Acuracy)"
   ]
  },
  {
   "cell_type": "markdown",
   "metadata": {},
   "source": [
    "2:PRECISION,RECALL AND F1 SCORE\n"
   ]
  },
  {
   "cell_type": "code",
   "execution_count": 25,
   "metadata": {},
   "outputs": [
    {
     "name": "stdout",
     "output_type": "stream",
     "text": [
      "Precision:  0.6\n",
      "Recall:  0.75\n",
      "F1_Score:  0.6666666666666666\n"
     ]
    }
   ],
   "source": [
    "from sklearn.metrics import precision_score,recall_score,f1_score\n",
    "# Precision measures how many of the predicted positive cases were actually positive.\n",
    "Precision = precision_score(y_actual,y_predicted)\n",
    "#Recall measures how many actual positive cases were correctly predicted.\n",
    "Recall = recall_score(y_actual,y_predicted)\n",
    "#Balance Between Precision & Recall\n",
    "F1_SCore = f1_score(y_actual,y_predicted)\n",
    "print(\"Precision: \" , Precision)\n",
    "print(\"Recall: \", Recall)\n",
    "print(\"F1_Score: \",F1_SCore)\n",
    "\n"
   ]
  },
  {
   "cell_type": "markdown",
   "metadata": {},
   "source": [
    "3:RECEIVER OPERATING CHARACTERISTICS - AREA UNDER THE CURVE"
   ]
  },
  {
   "cell_type": "code",
   "execution_count": 30,
   "metadata": {},
   "outputs": [
    {
     "name": "stdout",
     "output_type": "stream",
     "text": [
      "ROC-AUC Score: 0.5\n"
     ]
    },
    {
     "data": {
      "image/png": "[encoded data removed]",
      "text/plain": [
       "<Figure size 600x600 with 1 Axes>"
      ]
     },
     "metadata": {},
     "output_type": "display_data"
    }
   ],
   "source": [
    "from sklearn.metrics import roc_auc_score,roc_curve\n",
    "import matplotlib.pyplot as plt\n",
    "\n",
    "#actual values(1=positive and 0=negative)\n",
    "y_actual = [1,0,1,1,0,1]\n",
    "#y_predicted probabilities from a model\n",
    "y_pre_prob = [0.97,0.99,0.89,0.70,0.30,0.88]\n",
    "\n",
    "AUC_score = roc_auc_score(y_actual,y_pre_prob)\n",
    "print(\"ROC-AUC Score:\",AUC_score)\n",
    "\n",
    "fbr , tbr , _ = roc_curve(y_actual,y_pre_prob)\n",
    "\n",
    "plt.figure(figsize=(6,6))\n",
    "plt.plot(fbr,tbr, label=\"ROC Curve (AUC = {:.2f})\".format(AUC_score))\n",
    "plt.plot([0,1],[0,1],'k--')\n",
    "plt.xlabel(\"false positive Rate\")\n",
    "plt.ylabel(\"true positive Rate\")\n",
    "plt.title(\"ROC Curve\")\n",
    "plt.legend()\n",
    "plt.show()\n"
   ]
  },
  {
   "cell_type": "markdown",
   "metadata": {},
   "source": [
    "Plote the ROC Curve\n",
    "\n"
   ]
  },
  {
   "cell_type": "code",
   "execution_count": null,
   "metadata": {},
   "outputs": [],
   "source": []
  }
 ],
 "metadata": {
  "kernelspec": {
   "display_name": "Python 3",
   "language": "python",
   "name": "python3"
  },
  "language_info": {
   "codemirror_mode": {
    "name": "ipython",
    "version": 3
   },
   "file_extension": ".py",
   "mimetype": "text/x-python",
   "name": "python",
   "nbconvert_exporter": "python",
   "pygments_lexer": "ipython3",
   "version": "3.12.9"
  }
 },
 "nbformat": 4,
 "nbformat_minor": 2
}
