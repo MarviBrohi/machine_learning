{
 "cells": [
  {
   "cell_type": "code",
   "execution_count": null,
   "metadata": {},
   "outputs": [
    {
     "name": "stdout",
     "output_type": "stream",
     "text": [
      "select operation\n",
      "1.Add\n",
      "2.Sub\n",
      "3.multiply\n",
      "4.divide\n"
     ]
    }
   ],
   "source": [
    "def add(x,y):\n",
    "  return x+y\n",
    "def sub(x,y):\n",
    "  return x - y\n",
    "def multiply(x,y):\n",
    "  return x * y\n",
    "def divide(x,y):\n",
    "  if y==0:\n",
    "    print(\"Error\")\n",
    "  return x/y\n",
    "\n",
    "def calculator():\n",
    "  print(\"select operation\")\n",
    "  print(\"1.Add\")\n",
    "  print(\"2.Sub\")\n",
    "  print(\"3.multiply\")\n",
    "  print(\"4.divide\")\n",
    "\n",
    "  input_opertation = input(\"enter choice:(1/2/3/4)\")\n",
    "\n",
    "  if input_opertation in ['1', '2', '3', '4']:\n",
    "        num1 = float(input(\"Enter first number: \"))\n",
    "        num2 = float(input(\"Enter second number: \"))\n",
    "\n",
    "        if input_opertation == '1':\n",
    "            result = num1 + num2\n",
    "            print(f\"The result of addition is: {result}\")\n",
    "        elif input_opertation == '2':\n",
    "            result = num1 - num2\n",
    "            print(f\"The result of subtraction is: {result}\")\n",
    "        elif input_opertation == '3':\n",
    "            result = num1 * num2\n",
    "            print(f\"The result of multiplication is: {result}\")\n",
    "        elif input_opertation == '4':\n",
    "            if num2 == 0:\n",
    "                print(\"Error! Division by zero.\")\n",
    "            else:\n",
    "                result = num1 / num2\n",
    "                print(f\"The result of division is: {result}\")\n",
    "  else:\n",
    "        print(\"Invalid input! Please enter a number between 1 and 4.\")      \n",
    "\n",
    "calculator()\n"
   ]
  }
 ],
 "metadata": {
  "kernelspec": {
   "display_name": "Python 3",
   "language": "python",
   "name": "python3"
  },
  "language_info": {
   "codemirror_mode": {
    "name": "ipython",
    "version": 3
   },
   "file_extension": ".py",
   "mimetype": "text/x-python",
   "name": "python",
   "nbconvert_exporter": "python",
   "pygments_lexer": "ipython3",
   "version": "3.12.9"
  }
 },
 "nbformat": 4,
 "nbformat_minor": 2
}
